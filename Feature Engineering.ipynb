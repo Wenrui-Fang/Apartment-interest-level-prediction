{
 "cells": [
  {
   "cell_type": "code",
   "execution_count": 3,
   "id": "7448014e",
   "metadata": {},
   "outputs": [],
   "source": [
    "import numpy as np\n",
    "import pandas as pd\n",
    "from sklearn import preprocessing\n",
    "import json\n",
    "import os"
   ]
  },
  {
   "cell_type": "markdown",
   "id": "b2fbbc74",
   "metadata": {},
   "source": [
    "## Create Features"
   ]
  },
  {
   "cell_type": "code",
   "execution_count": 4,
   "id": "35ec6b7d",
   "metadata": {},
   "outputs": [
    {
     "name": "stdout",
     "output_type": "stream",
     "text": [
      "/Users/yanyan/Desktop/NEU/Fall 2022/5100 ai/Project/GP\n"
     ]
    }
   ],
   "source": [
    "print(os.getcwd())\n",
    "basePath = os.path.dirname(os.path.abspath('train.json'))\n",
    "feature = pd.read_json(os.path.join(basePath, 'train.json') )\n",
    "feature [\"num_photos\"] = feature [\"photos\"].apply(len)\n",
    "feature [\"num_features\"] = feature [\"features\"].apply(len)\n",
    "feature [\"num_description_words\"] = feature [\"description\"].apply(lambda x: len(x.split(\" \")))\n",
    "feature [\"created\"] = pd.to_datetime(feature[\"created\"])\n",
    "feature [\"created_year\"] = feature [\"created\"].dt.year\n",
    "feature [\"created_month\"] = feature [\"created\"].dt.month\n",
    "feature [\"created_day\"] = feature [\"created\"].dt.day"
   ]
  },
  {
   "cell_type": "code",
   "execution_count": 5,
   "id": "26d70794",
   "metadata": {},
   "outputs": [
    {
     "name": "stdout",
     "output_type": "stream",
     "text": [
      "['bathrooms', 'bedrooms', 'latitude', 'longitude', 'price', 'num_photos', 'num_features', 'num_description_words', 'created_year', 'created_month', 'created_day']\n"
     ]
    }
   ],
   "source": [
    "\n",
    "feature_using = [\"bathrooms\", \"bedrooms\", \"latitude\", \"longitude\", \"price\",\n",
    "                   \"num_photos\", \"num_features\", \"num_description_words\",\n",
    "                   \"created_year\", \"created_month\", \"created_day\"]\n",
    "print(feature_using)"
   ]
  },
  {
   "cell_type": "code",
   "execution_count": 6,
   "id": "2acbf8ee",
   "metadata": {},
   "outputs": [
    {
     "data": {
      "text/plain": [
       "<AxesSubplot:>"
      ]
     },
     "execution_count": 6,
     "metadata": {},
     "output_type": "execute_result"
    },
    {
     "data": {
      "image/png": "[encoded data removed]",
      "text/plain": [
       "<Figure size 432x288 with 1 Axes>"
      ]
     },
     "metadata": {
      "needs_background": "light"
     },
     "output_type": "display_data"
    }
   ],
   "source": [
    "feature['created'].dt.month.value_counts(sort=False).plot(kind='bar')"
   ]
  },
  {
   "cell_type": "code",
   "execution_count": 7,
   "id": "fafba687",
   "metadata": {},
   "outputs": [],
   "source": [
    "new_feature = preprocessing.LabelEncoder()\n",
    "new_feature.fit(list(feature['manager_id'].values))\n",
    "feature['manager_id'] = new_feature.transform(list(feature['manager_id'].values))"
   ]
  },
  {
   "cell_type": "markdown",
   "id": "37b393cd",
   "metadata": {},
   "source": [
    "### Adding manager_id to features"
   ]
  },
  {
   "cell_type": "code",
   "execution_count": 8,
   "id": "c9235770",
   "metadata": {},
   "outputs": [
    {
     "name": "stdout",
     "output_type": "stream",
     "text": [
      "    bathrooms  bedrooms  latitude  longitude  price  num_photos  num_features  \\\n",
      "4         1.0         1   40.7108   -73.9539   2400          12             7   \n",
      "6         1.0         2   40.7513   -73.9722   3800           6             6   \n",
      "9         1.0         2   40.7575   -73.9625   3495           6             6   \n",
      "10        1.5         3   40.7145   -73.9425   3000           5             0   \n",
      "15        1.0         0   40.7439   -73.9743   2795           4             4   \n",
      "\n",
      "    num_description_words  created_year  created_month  created_day  \\\n",
      "4                      77          2016              6           16   \n",
      "6                     131          2016              6            1   \n",
      "9                     119          2016              6           14   \n",
      "10                     95          2016              6           24   \n",
      "15                     41          2016              6           28   \n",
      "\n",
      "    manager_id  \n",
      "4         2192  \n",
      "6         2044  \n",
      "9         2748  \n",
      "10        1239  \n",
      "15         632  \n"
     ]
    }
   ],
   "source": [
    "feature_using.extend(['manager_id'])\n",
    "rental = feature[feature_using]\n",
    "print(rental.head())"
   ]
  },
  {
   "cell_type": "markdown",
   "id": "24f960d5",
   "metadata": {},
   "source": [
    "### Adding manager_skill as feature"
   ]
  },
  {
   "cell_type": "code",
   "execution_count": 9,
   "id": "4700cc28",
   "metadata": {},
   "outputs": [
    {
     "name": "stdout",
     "output_type": "stream",
     "text": [
      "high             0.081314\n",
      "low              0.673194\n",
      "medium           0.245492\n",
      "manager_skill    0.408120\n",
      "dtype: float64\n",
      "       bathrooms  bedrooms  latitude  longitude  price  num_photos  \\\n",
      "0            1.0         1   40.7108   -73.9539   2400          12   \n",
      "1            2.0         2   40.7327   -73.8638   3385          18   \n",
      "2            1.0         2   40.7039   -73.9425   2400          10   \n",
      "3            1.0         1   40.7677   -73.9251   2350          17   \n",
      "4            1.0         3   40.6907   -73.9216   3850           8   \n",
      "...          ...       ...       ...        ...    ...         ...   \n",
      "49347        1.5         2   40.6769   -73.9621   3399           4   \n",
      "49348        3.5         3   40.7644   -73.9580  17000          11   \n",
      "49349        1.0         0   40.6498   -73.9612   1300           1   \n",
      "49350        2.0         3   40.7003   -73.9398   2795           9   \n",
      "49351        1.0         1   40.7359   -74.0042   3600           4   \n",
      "\n",
      "       num_features  num_description_words  created_year  created_month  \\\n",
      "0                 7                     77          2016              6   \n",
      "1                17                    359          2016              6   \n",
      "2                 5                     66          2016              6   \n",
      "3                 7                     74          2016              6   \n",
      "4                 5                     95          2016              6   \n",
      "...             ...                    ...           ...            ...   \n",
      "49347             8                    298          2016              4   \n",
      "49348             7                    155          2016              4   \n",
      "49349             3                     51          2016              4   \n",
      "49350             2                     34          2016              4   \n",
      "49351             3                     29          2016              4   \n",
      "\n",
      "       created_day  manager_id      high       low    medium  count  \\\n",
      "0               16        2192  0.053571  0.526786  0.419643    112   \n",
      "1                8        2192  0.053571  0.526786  0.419643    112   \n",
      "2                8        2192  0.053571  0.526786  0.419643    112   \n",
      "3               10        2192  0.053571  0.526786  0.419643    112   \n",
      "4               20        2192  0.053571  0.526786  0.419643    112   \n",
      "...            ...         ...       ...       ...       ...    ...   \n",
      "49347           23         980  0.081314  0.673194  0.245492      1   \n",
      "49348           27        3056  0.081314  0.673194  0.245492      1   \n",
      "49349            7        2613  0.081314  0.673194  0.245492      1   \n",
      "49350           22        1638  0.081314  0.673194  0.245492      1   \n",
      "49351           22        2817  0.081314  0.673194  0.245492      1   \n",
      "\n",
      "       manager_skill  managers_id  \n",
      "0           0.526786         2192  \n",
      "1           0.526786         2192  \n",
      "2           0.526786         2192  \n",
      "3           0.526786         2192  \n",
      "4           0.526786         2192  \n",
      "...              ...          ...  \n",
      "49347       0.408120          980  \n",
      "49348       0.408120         3056  \n",
      "49349       0.408120         2613  \n",
      "49350       0.408120         1638  \n",
      "49351       0.408120         2817  \n",
      "\n",
      "[49352 rows x 18 columns]\n"
     ]
    }
   ],
   "source": [
    "X = feature[feature_using]\n",
    "Y = feature['interest_level']\n",
    "\n",
    "temp = pd.concat([X.manager_id, pd.get_dummies(Y)], axis=1).groupby('manager_id').mean()\n",
    "temp['count'] = X.groupby('manager_id').count().iloc[:,1]\n",
    "\n",
    "temp['manager_skill'] = temp['high']*2 + temp['medium']\n",
    "\n",
    "unranked_managers_ixes = temp['count']<20\n",
    "\n",
    "ranked_managers_ixes = ~unranked_managers_ixes\n",
    "\n",
    "mean_values = temp.loc[ranked_managers_ixes, ['high','low','medium','manager_skill']].mean()\n",
    "print(mean_values)\n",
    "temp.loc[unranked_managers_ixes,['high','low','medium','manager_skill']] = mean_values.values\n",
    "\n",
    "temp['managers_id'] = temp.index\n",
    "joined = pd.merge(rental, temp,on='manager_id')\n",
    "print(joined)"
   ]
  },
  {
   "cell_type": "markdown",
   "id": "a52e0072",
   "metadata": {},
   "source": [
    "## Show top_five ommon features"
   ]
  },
  {
   "cell_type": "code",
   "execution_count": 10,
   "id": "e94ca6db",
   "metadata": {},
   "outputs": [],
   "source": [
    "train = pd.read_json(\"train.json\")\n",
    "all_features = []\n",
    "for i in train['features']:\n",
    "    all_features += i\n",
    "    all_features = [x.strip().lower() for x in all_features]\n",
    "all_features = sorted(all_features)"
   ]
  },
  {
   "cell_type": "code",
   "execution_count": 11,
   "id": "63c3deed",
   "metadata": {},
   "outputs": [],
   "source": [
    "import collections\n",
    "\n",
    "counter=collections.Counter(all_features)"
   ]
  },
  {
   "cell_type": "code",
   "execution_count": 12,
   "id": "a7a863cf",
   "metadata": {},
   "outputs": [
    {
     "ename": "NameError",
     "evalue": "name 'commonFeatures' is not defined",
     "output_type": "error",
     "traceback": [
      "\u001b[0;31m---------------------------------------------------------------------------\u001b[0m",
      "\u001b[0;31mNameError\u001b[0m                                 Traceback (most recent call last)",
      "Input \u001b[0;32mIn [12]\u001b[0m, in \u001b[0;36m<cell line: 2>\u001b[0;34m()\u001b[0m\n\u001b[1;32m      1\u001b[0m common_features \u001b[38;5;241m=\u001b[39m pd\u001b[38;5;241m.\u001b[39mDataFrame(counter\u001b[38;5;241m.\u001b[39mmost_common(), columns\u001b[38;5;241m=\u001b[39m[\u001b[38;5;124m'\u001b[39m\u001b[38;5;124mfeatures\u001b[39m\u001b[38;5;124m'\u001b[39m, \u001b[38;5;124m'\u001b[39m\u001b[38;5;124mquantity\u001b[39m\u001b[38;5;124m'\u001b[39m])\n\u001b[0;32m----> 2\u001b[0m \u001b[38;5;28mprint\u001b[39m(\u001b[43mcommonFeatures\u001b[49m\u001b[38;5;241m.\u001b[39mshape)\n\u001b[1;32m      3\u001b[0m common_features \u001b[38;5;241m=\u001b[39m commonFeatures\u001b[38;5;241m.\u001b[39mloc[:\u001b[38;5;241m40\u001b[39m, :]\n\u001b[1;32m      4\u001b[0m common_features\u001b[38;5;241m.\u001b[39mplot(kind\u001b[38;5;241m=\u001b[39m\u001b[38;5;124m'\u001b[39m\u001b[38;5;124mbar\u001b[39m\u001b[38;5;124m'\u001b[39m)\n",
      "\u001b[0;31mNameError\u001b[0m: name 'commonFeatures' is not defined"
     ]
    }
   ],
   "source": [
    "common_features = pd.DataFrame(counter.most_common(), columns=['features', 'quantity'])\n",
    "print(commonFeatures.shape)\n",
    "common_features = commonFeatures.loc[:40, :]\n",
    "common_features.plot(kind='bar')"
   ]
  },
  {
   "cell_type": "code",
   "execution_count": null,
   "id": "fc19abb4",
   "metadata": {},
   "outputs": [],
   "source": [
    "common_features.head()"
   ]
  }
 ],
 "metadata": {
  "kernelspec": {
   "display_name": "Python 3 (ipykernel)",
   "language": "python",
   "name": "python3"
  },
  "language_info": {
   "codemirror_mode": {
    "name": "ipython",
    "version": 3
   },
   "file_extension": ".py",
   "mimetype": "text/x-python",
   "name": "python",
   "nbconvert_exporter": "python",
   "pygments_lexer": "ipython3",
   "version": "3.9.12"
  }
 },
 "nbformat": 4,
 "nbformat_minor": 5
}
