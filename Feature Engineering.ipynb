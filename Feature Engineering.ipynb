{
 "cells": [
  {
   "cell_type": "code",
   "execution_count": null,
   "id": "7448014e",
   "metadata": {},
   "outputs": [],
   "source": [
    "import numpy as np\n",
    "import pandas as pd\n",
    "from sklearn import preprocessing"
   ]
  },
  {
   "cell_type": "markdown",
   "id": "b2fbbc74",
   "metadata": {},
   "source": [
    "## Create Features"
   ]
  },
  {
   "cell_type": "code",
   "execution_count": null,
   "id": "35ec6b7d",
   "metadata": {},
   "outputs": [],
   "source": [
    "feature = pd.read_json(\"train.json\")\n",
    "feature [\"num_photos\"] = feature [\"photos\"].apply(len)\n",
    "feature [\"num_features\"] = feature [\"features\"].apply(len)\n",
    "feature [\"num_description_words\"] = feature [\"description\"].apply(lambda x: len(x.split(\" \")))\n",
    "feature [\"created\"] = pd.to_datetime(feature[\"created\"])\n",
    "feature [\"created_year\"] = feature [\"created\"].dt.year\n",
    "feature [\"created_month\"] = feature [\"created\"].dt.month\n",
    "feature [\"created_day\"] = feature [\"created\"].dt.day"
   ]
  },
  {
   "cell_type": "code",
   "execution_count": null,
   "id": "26d70794",
   "metadata": {},
   "outputs": [],
   "source": [
    "\n",
    "feature_using = [\"bathrooms\", \"bedrooms\", \"latitude\", \"longitude\", \"price\",\n",
    "                   \"num_photos\", \"num_features\", \"num_description_words\",\n",
    "                   \"created_year\", \"created_month\", \"created_day\"]\n",
    "print(feature_using)"
   ]
  },
  {
   "cell_type": "code",
   "execution_count": null,
   "id": "2acbf8ee",
   "metadata": {},
   "outputs": [],
   "source": [
    "feature['created'].dt.month.value_counts(sort=False).plot(kind='bar')"
   ]
  },
  {
   "cell_type": "code",
   "execution_count": null,
   "id": "fafba687",
   "metadata": {},
   "outputs": [],
   "source": [
    "new_feature = preprocessing.LabelEncoder()\n",
    "new_feature.fit(list(feature['manager_id'].values))\n",
    "feature['manager_id'] = new_feature.transform(list(feature['manager_id'].values))"
   ]
  },
  {
   "cell_type": "markdown",
   "id": "37b393cd",
   "metadata": {},
   "source": [
    "### Adding manager_id to features"
   ]
  },
  {
   "cell_type": "code",
   "execution_count": null,
   "id": "c9235770",
   "metadata": {},
   "outputs": [],
   "source": [
    "feature_using.extend(['manager_id'])\n",
    "rental = feature[feature_using]\n",
    "print(rental.head())"
   ]
  },
  {
   "cell_type": "markdown",
   "id": "24f960d5",
   "metadata": {},
   "source": [
    "### Adding manager_skill as feature"
   ]
  },
  {
   "cell_type": "code",
   "execution_count": null,
   "id": "4700cc28",
   "metadata": {},
   "outputs": [],
   "source": [
    "X = feature[feature_using]\n",
    "Y = feature['interest_level']\n",
    "\n",
    "temp = pd.concat([X.manager_id, pd.get_dummies(Y)], axis=1).groupby('manager_id').mean()\n",
    "temp['count'] = X.groupby('manager_id').count().iloc[:,1]\n",
    "\n",
    "temp['manager_skill'] = temp['high']*2 + temp['medium']\n",
    "\n",
    "unranked_managers_ixes = temp['count']<20\n",
    "\n",
    "ranked_managers_ixes = ~unranked_managers_ixes\n",
    "\n",
    "mean_values = temp.loc[ranked_managers_ixes, ['high','low','medium','manager_skill']].mean()\n",
    "print(mean_values)\n",
    "temp.loc[unranked_managers_ixes,['high','low','medium','manager_skill']] = mean_values.values\n",
    "\n",
    "temp['managers_id'] = temp.index\n",
    "joined = pd.merge(rental, temp,on='manager_id')\n",
    "print(joined)"
   ]
  },
  {
   "cell_type": "markdown",
   "id": "a52e0072",
   "metadata": {},
   "source": [
    "## Show top_five ommon features"
   ]
  },
  {
   "cell_type": "code",
   "execution_count": null,
   "id": "e94ca6db",
   "metadata": {},
   "outputs": [],
   "source": [
    "train = pd.read_json(\"train.json\")\n",
    "all_features = []\n",
    "for i in train['features']:\n",
    "    all_features += i\n",
    "    all_features = [x.strip().lower() for x in all_features]\n",
    "all_features = sorted(all_features)"
   ]
  },
  {
   "cell_type": "code",
   "execution_count": null,
   "id": "63c3deed",
   "metadata": {},
   "outputs": [],
   "source": [
    "import collections\n",
    "\n",
    "counter=collections.Counter(all_features)"
   ]
  },
  {
   "cell_type": "code",
   "execution_count": null,
   "id": "a7a863cf",
   "metadata": {},
   "outputs": [],
   "source": [
    "common_features = pd.DataFrame(counter.most_common(), columns=['features', 'quantity'])\n",
    "print(commonFeatures.shape)\n",
    "common_features = commonFeatures.loc[:40, :]\n",
    "common_features.plot(kind='bar')"
   ]
  },
  {
   "cell_type": "code",
   "execution_count": null,
   "id": "fc19abb4",
   "metadata": {},
   "outputs": [],
   "source": [
    "common_features.head()"
   ]
  }
 ],
 "metadata": {
  "kernelspec": {
   "display_name": "Python 3 (ipykernel)",
   "language": "python",
   "name": "python3"
  },
  "language_info": {
   "codemirror_mode": {
    "name": "ipython",
    "version": 3
   },
   "file_extension": ".py",
   "mimetype": "text/x-python",
   "name": "python",
   "nbconvert_exporter": "python",
   "pygments_lexer": "ipython3",
   "version": "3.9.12"
  }
 },
 "nbformat": 4,
 "nbformat_minor": 5
}
