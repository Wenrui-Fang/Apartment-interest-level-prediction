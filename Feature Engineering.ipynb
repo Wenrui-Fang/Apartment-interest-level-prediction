{
 "cells": [
  {
   "cell_type": "code",
   "execution_count": null,
   "id": "7448014e",
   "metadata": {},
   "outputs": [],
   "source": [
    "import numpy as np\n",
    "import pandas as pd\n",
    "from sklearn import preprocessing"
   ]
  },
  {
   "cell_type": "markdown",
   "id": "b2fbbc74",
   "metadata": {},
   "source": [
    "## Create Features"
   ]
  },
  {
   "cell_type": "code",
   "execution_count": null,
   "id": "35ec6b7d",
   "metadata": {},
   "outputs": [],
   "source": [
    "feature = pd.read_json(\"train.json\")\n",
    "feature [\"num_photos\"] = feature [\"photos\"].apply(len)\n",
    "feature [\"num_features\"] = feature [\"features\"].apply(len)\n",
    "feature [\"num_description_words\"] = feature [\"description\"].apply(lambda x: len(x.split(\" \")))\n",
    "feature [\"created\"] = pd.to_datetime(feature[\"created\"])\n",
    "feature [\"created_year\"] = feature [\"created\"].dt.year\n",
    "feature [\"created_month\"] = feature [\"created\"].dt.month\n",
    "feature [\"created_day\"] = feature [\"created\"].dt.day"
   ]
  },
  {
   "cell_type": "code",
   "execution_count": null,
   "id": "26d70794",
   "metadata": {},
   "outputs": [],
   "source": [
    "\n",
    "feature_using = [\"bathrooms\", \"bedrooms\", \"latitude\", \"longitude\", \"price\",\n",
    "                   \"num_photos\", \"num_features\", \"num_description_words\",\n",
    "                   \"created_year\", \"created_month\", \"created_day\"]\n",
    "print(feature_using)"
   ]
  },
  {
   "cell_type": "code",
   "execution_count": null,
   "id": "2acbf8ee",
   "metadata": {},
   "outputs": [],
   "source": [
    "feature['created'].dt.month.value_counts(sort=False).plot(kind='bar')"
   ]
  },
  {
   "cell_type": "code",
   "execution_count": null,
   "id": "fafba687",
   "metadata": {},
   "outputs": [],
   "source": [
    "new_feature = preprocessing.LabelEncoder()\n",
    "new_feature.fit(list(feature['manager_id'].values))\n",
    "feature['manager_id'] = new_feature.transform(list(feature['manager_id'].values))"
   ]
  },
  {
   "cell_type": "markdown",
   "id": "37b393cd",
   "metadata": {},
   "source": [
    "### Adding manager_id to features"
   ]
  },
  {
   "cell_type": "code",
   "execution_count": null,
   "id": "c9235770",
   "metadata": {},
   "outputs": [],
   "source": [
    "feature_using.extend(['manager_id'])\n",
    "rental = feature[feature_using]\n",
    "print(rental.head())"
   ]
  }
 ],
 "metadata": {
  "kernelspec": {
   "display_name": "Python 3 (ipykernel)",
   "language": "python",
   "name": "python3"
  },
  "language_info": {
   "codemirror_mode": {
    "name": "ipython",
    "version": 3
   },
   "file_extension": ".py",
   "mimetype": "text/x-python",
   "name": "python",
   "nbconvert_exporter": "python",
   "pygments_lexer": "ipython3",
   "version": "3.9.12"
  }
 },
 "nbformat": 4,
 "nbformat_minor": 5
}
