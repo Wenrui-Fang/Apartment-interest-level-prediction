{
 "cells": [
  {
   "cell_type": "code",
   "execution_count": 1,
   "id": "ebfeb0c8",
   "metadata": {},
   "outputs": [],
   "source": [
    "import pandas as pd\n",
    "import numpy as np\n",
    "from numpy import interp\n",
    "import matplotlib.pyplot as plt\n",
    "from itertools import cycle\n",
    "\n",
    "from sklearn.model_selection import train_test_split\n",
    "from sklearn.ensemble import RandomForestClassifier\n",
    "from sklearn.neural_network import MLPClassifier\n",
    "from sklearn.ensemble import GradientBoostingClassifier\n",
    "from sklearn.svm import SVC\n",
    "from sklearn.linear_model import LogisticRegression\n",
    "from sklearn import metrics\n",
    "from sklearn.metrics import accuracy_score\n",
    "from sklearn.metrics import classification_report\n",
    "from sklearn.metrics import confusion_matrix\n",
    "from sklearn.metrics import precision_recall_curve\n",
    "from sklearn.metrics import average_precision_score\n",
    "from sklearn.metrics import roc_curve, auc\n",
    "from sklearn.preprocessing import label_binarize\n",
    "\n",
    "import warnings\n",
    "warnings.filterwarnings(\"ignore\")"
   ]
  },
  {
   "cell_type": "markdown",
   "id": "af509535",
   "metadata": {},
   "source": [
    "# 1. Load datasets "
   ]
  },
  {
   "cell_type": "code",
   "execution_count": 2,
   "id": "85bdded1",
   "metadata": {},
   "outputs": [],
   "source": [
    "df = pd.read_json(\"train.json\")"
   ]
  },
  {
   "cell_type": "code",
   "execution_count": 3,
   "id": "9e8c815a",
   "metadata": {},
   "outputs": [
    {
     "data": {
      "text/html": [
       "<div>\n",
       "<style scoped>\n",
       "    .dataframe tbody tr th:only-of-type {\n",
       "        vertical-align: middle;\n",
       "    }\n",
       "\n",
       "    .dataframe tbody tr th {\n",
       "        vertical-align: top;\n",
       "    }\n",
       "\n",
       "    .dataframe thead th {\n",
       "        text-align: right;\n",
       "    }\n",
       "</style>\n",
       "<table border=\"1\" class=\"dataframe\">\n",
       "  <thead>\n",
       "    <tr style=\"text-align: right;\">\n",
       "      <th></th>\n",
       "      <th>bathrooms</th>\n",
       "      <th>bedrooms</th>\n",
       "      <th>building_id</th>\n",
       "      <th>created</th>\n",
       "      <th>description</th>\n",
       "      <th>display_address</th>\n",
       "      <th>features</th>\n",
       "      <th>latitude</th>\n",
       "      <th>listing_id</th>\n",
       "      <th>longitude</th>\n",
       "      <th>manager_id</th>\n",
       "      <th>photos</th>\n",
       "      <th>price</th>\n",
       "      <th>street_address</th>\n",
       "      <th>interest_level</th>\n",
       "    </tr>\n",
       "  </thead>\n",
       "  <tbody>\n",
       "    <tr>\n",
       "      <th>4</th>\n",
       "      <td>1.0</td>\n",
       "      <td>1</td>\n",
       "      <td>8579a0b0d54db803821a35a4a615e97a</td>\n",
       "      <td>2016-06-16 05:55:27</td>\n",
       "      <td>Spacious 1 Bedroom 1 Bathroom in Williamsburg!...</td>\n",
       "      <td>145 Borinquen Place</td>\n",
       "      <td>[Dining Room, Pre-War, Laundry in Building, Di...</td>\n",
       "      <td>40.7108</td>\n",
       "      <td>7170325</td>\n",
       "      <td>-73.9539</td>\n",
       "      <td>a10db4590843d78c784171a107bdacb4</td>\n",
       "      <td>[https://photos.renthop.com/2/7170325_3bb5ac84...</td>\n",
       "      <td>2400</td>\n",
       "      <td>145 Borinquen Place</td>\n",
       "      <td>medium</td>\n",
       "    </tr>\n",
       "  </tbody>\n",
       "</table>\n",
       "</div>"
      ],
      "text/plain": [
       "   bathrooms  bedrooms                       building_id              created  \\\n",
       "4        1.0         1  8579a0b0d54db803821a35a4a615e97a  2016-06-16 05:55:27   \n",
       "\n",
       "                                         description      display_address  \\\n",
       "4  Spacious 1 Bedroom 1 Bathroom in Williamsburg!...  145 Borinquen Place   \n",
       "\n",
       "                                            features  latitude  listing_id  \\\n",
       "4  [Dining Room, Pre-War, Laundry in Building, Di...   40.7108     7170325   \n",
       "\n",
       "   longitude                        manager_id  \\\n",
       "4   -73.9539  a10db4590843d78c784171a107bdacb4   \n",
       "\n",
       "                                              photos  price  \\\n",
       "4  [https://photos.renthop.com/2/7170325_3bb5ac84...   2400   \n",
       "\n",
       "        street_address interest_level  \n",
       "4  145 Borinquen Place         medium  "
      ]
     },
     "execution_count": 3,
     "metadata": {},
     "output_type": "execute_result"
    }
   ],
   "source": [
    "df.head(1)"
   ]
  },
  {
   "cell_type": "markdown",
   "id": "5e022e29",
   "metadata": {},
   "source": [
    "# 2. Transform \"created\" column to numeric features"
   ]
  },
  {
   "cell_type": "code",
   "execution_count": 4,
   "id": "c08cbedc",
   "metadata": {},
   "outputs": [],
   "source": [
    "df[\"created\"] = pd.to_datetime(df[\"created\"])\n",
    "df[\"created_year\"] = df[\"created\"].dt.year\n",
    "df[\"created_month\"] = df[\"created\"].dt.month\n",
    "df[\"created_day\"] = df[\"created\"].dt.day"
   ]
  },
  {
   "cell_type": "markdown",
   "id": "e5971a9b",
   "metadata": {},
   "source": [
    "# 3. Extract numeric features and label"
   ]
  },
  {
   "cell_type": "code",
   "execution_count": 5,
   "id": "5eb3f17b",
   "metadata": {},
   "outputs": [],
   "source": [
    "numeric_features = [\"bathrooms\", \"bedrooms\", \"latitude\", \"longitude\", \"price\", \"created_year\", \"created_month\", \"created_day\"]\n",
    "\n",
    "target_num_map = {'high':0, 'medium':1, 'low':2}\n",
    "target_names = ['high', 'medium', 'low']\n",
    "\n",
    "X = df[numeric_features]\n",
    "y = np.array(df['interest_level'].apply(lambda x: target_num_map[x]))"
   ]
  },
  {
   "cell_type": "markdown",
   "id": "e9785e49",
   "metadata": {},
   "source": [
    "# 4. Split train and test set"
   ]
  },
  {
   "cell_type": "code",
   "execution_count": 6,
   "id": "c82ba6b2",
   "metadata": {},
   "outputs": [],
   "source": [
    "X_train, X_test, y_train, y_test = train_test_split(X, y, test_size=0.2)"
   ]
  },
  {
   "cell_type": "markdown",
   "id": "023e5aee",
   "metadata": {},
   "source": [
    "# 5. Train and test"
   ]
  },
  {
   "cell_type": "markdown",
   "id": "f55133c2",
   "metadata": {},
   "source": [
    "## 5.1 Random forest"
   ]
  },
  {
   "cell_type": "code",
   "execution_count": 7,
   "id": "da6091f3",
   "metadata": {},
   "outputs": [],
   "source": [
    "random_forest = RandomForestClassifier()\n",
    "random_forest.fit(X_train, y_train)\n",
    "y_test_predict = random_forest.predict(X_test)"
   ]
  },
  {
   "cell_type": "markdown",
   "id": "98065c3e",
   "metadata": {},
   "source": [
    "#### Accuracy"
   ]
  },
  {
   "cell_type": "code",
   "execution_count": 8,
   "id": "bb35e601",
   "metadata": {},
   "outputs": [
    {
     "name": "stdout",
     "output_type": "stream",
     "text": [
      "accuracy: 0.7041839732549894\n"
     ]
    }
   ],
   "source": [
    "print(\"accuracy: {}\".format(accuracy_score(y_test_predict, y_test)))"
   ]
  },
  {
   "cell_type": "markdown",
   "id": "c427554c",
   "metadata": {},
   "source": [
    "#### Precision-Recall curve"
   ]
  },
  {
   "cell_type": "code",
   "execution_count": 9,
   "id": "5ad6bc65",
   "metadata": {},
   "outputs": [
    {
     "data": {
      "image/png": "[encoded data removed]",
      "text/plain": [
       "<Figure size 432x288 with 1 Axes>"
      ]
     },
     "metadata": {
      "needs_background": "light"
     },
     "output_type": "display_data"
    }
   ],
   "source": [
    "y = label_binarize(y_test, classes=[0,1,2])\n",
    "score = label_binarize(y_test_predict, classes=[0,1,2])\n",
    "\n",
    "precision = dict()\n",
    "recall = dict()\n",
    "average_precision = dict()\n",
    "\n",
    "for i in range(3):\n",
    "    precision[i], recall[i], _ = precision_recall_curve(y[:, i],\n",
    "                                                        score[:, i])\n",
    "    average_precision[i] = average_precision_score(y[:, i], score[:, i])\n",
    "\n",
    "\n",
    "colors = cycle(['navy', 'turquoise', 'darkorange', 'cornflowerblue', 'teal'])\n",
    "precision[\"micro\"], recall[\"micro\"], _ = precision_recall_curve(y.ravel(), score.ravel())\n",
    "average_precision[\"micro\"] = average_precision_score(y, score, average=\"micro\")\n",
    "\n",
    "plt.clf()\n",
    "plt.plot(recall[\"micro\"], precision[\"micro\"], color='red', lw=2,\n",
    "         label='micro-average Precision-recall curve (area = {0:0.2f})'\n",
    "               ''.format(average_precision[\"micro\"]))\n",
    "for i, color in zip(range(len(target_names)), colors):\n",
    "    plt.plot(recall[i], precision[i], color=color, lw=2,\n",
    "             label='Precision-recall curve of class {0} (area = {1:0.2f})'\n",
    "                   ''.format(target_names[i], average_precision[i]))\n",
    "\n",
    "plt.xlim([0.0, 1.0])\n",
    "plt.ylim([0.0, 1.05])\n",
    "plt.xlabel('Recall')\n",
    "plt.ylabel('Precision')\n",
    "plt.title('Extension of Precision-Recall curve to multi-class')\n",
    "plt.legend(loc=\"lower right\")\n",
    "plt.show()"
   ]
  },
  {
   "cell_type": "markdown",
   "id": "a2d4b5f3",
   "metadata": {},
   "source": [
    "####  Classification report"
   ]
  },
  {
   "cell_type": "code",
   "execution_count": 10,
   "id": "4d62eacc",
   "metadata": {},
   "outputs": [
    {
     "name": "stdout",
     "output_type": "stream",
     "text": [
      "              precision    recall  f1-score   support\n",
      "\n",
      "        high       0.23      0.45      0.30       385\n",
      "      medium       0.24      0.40      0.30      1335\n",
      "         low       0.91      0.77      0.83      8151\n",
      "\n",
      "    accuracy                           0.70      9871\n",
      "   macro avg       0.46      0.54      0.48      9871\n",
      "weighted avg       0.79      0.70      0.74      9871\n",
      "\n"
     ]
    }
   ],
   "source": [
    "print(classification_report(y_test_predict, y_test, target_names=target_names))"
   ]
  },
  {
   "cell_type": "markdown",
   "id": "a881edcb",
   "metadata": {},
   "source": [
    "#### Confusion matrix"
   ]
  },
  {
   "cell_type": "code",
   "execution_count": 11,
   "id": "1b77ad89",
   "metadata": {},
   "outputs": [
    {
     "name": "stdout",
     "output_type": "stream",
     "text": [
      "[[ 174  248  344]\n",
      " [ 136  530 1560]\n",
      " [  75  557 6247]]\n"
     ]
    }
   ],
   "source": [
    "print(confusion_matrix(y_test, y_test_predict))"
   ]
  },
  {
   "cell_type": "markdown",
   "id": "184a2702",
   "metadata": {},
   "source": [
    "#### ROC curve"
   ]
  },
  {
   "cell_type": "code",
   "execution_count": 12,
   "id": "0247bb1a",
   "metadata": {},
   "outputs": [
    {
     "data": {
      "image/png": "[encoded data removed]",
      "text/plain": [
       "<Figure size 432x288 with 1 Axes>"
      ]
     },
     "metadata": {
      "needs_background": "light"
     },
     "output_type": "display_data"
    }
   ],
   "source": [
    "mean_tpr = 0.0\n",
    "mean_fpr = np.linspace(0, 1, 100)\n",
    "labels = ['high','medium','low']\n",
    "colors = ['red', 'blue', 'green', 'grey']\n",
    "\n",
    "for i in range(3):\n",
    "    fpr, tpr, _ = roc_curve(y[:,i], score[:,i])\n",
    "    mean_tpr += interp(mean_fpr, fpr, tpr)\n",
    "    mean_tpr[0] = 0.0\n",
    "    roc_auc = auc(fpr, tpr)\n",
    "    plt.plot(fpr, tpr, lw=1, color=colors[i],\n",
    "             label='ROC %s (area = %0.2f)' % (labels[i], roc_auc))\n",
    "\n",
    "mean_tpr /= 3\n",
    "mean_tpr[-1] = 1.0\n",
    "mean_auc = auc(mean_fpr, mean_tpr)\n",
    "plt.plot(mean_fpr, mean_tpr, color='grey', linestyle='--',\n",
    "         label='Mean ROC (area = %0.2f)' % mean_auc, lw=2)\n",
    "\n",
    "plt.xlim([-0.05, 1.05])\n",
    "plt.ylim([-0.05, 1.05])\n",
    "plt.xlabel('False Positive Rate')\n",
    "plt.ylabel('True Positive Rate')\n",
    "plt.title('Receiver operating characteristic')\n",
    "plt.legend(loc=\"lower right\")\n",
    "plt.show()"
   ]
  },
  {
   "cell_type": "markdown",
   "id": "ca494b71",
   "metadata": {},
   "source": [
    "## 5.2 Support Vector Machine"
   ]
  },
  {
   "cell_type": "markdown",
   "id": "879674c3",
   "metadata": {},
   "source": [
    "## 5.3 Ada Boost"
   ]
  }
 ],
 "metadata": {
  "kernelspec": {
   "display_name": "Python 3 (ipykernel)",
   "language": "python",
   "name": "python3"
  },
  "language_info": {
   "codemirror_mode": {
    "name": "ipython",
    "version": 3
   },
   "file_extension": ".py",
   "mimetype": "text/x-python",
   "name": "python",
   "nbconvert_exporter": "python",
   "pygments_lexer": "ipython3",
   "version": "3.9.12"
  }
 },
 "nbformat": 4,
 "nbformat_minor": 5
}
